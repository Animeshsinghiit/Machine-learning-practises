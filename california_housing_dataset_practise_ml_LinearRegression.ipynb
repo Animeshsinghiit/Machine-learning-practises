{
  "nbformat": 4,
  "nbformat_minor": 0,
  "metadata": {
    "colab": {
      "provenance": [],
      "authorship_tag": "ABX9TyNu1xr0VzJcA4wlZvXPRfU5",
      "include_colab_link": true
    },
    "kernelspec": {
      "name": "python3",
      "display_name": "Python 3"
    },
    "language_info": {
      "name": "python"
    }
  },
  "cells": [
    {
      "cell_type": "markdown",
      "metadata": {
        "id": "view-in-github",
        "colab_type": "text"
      },
      "source": [
        "<a href=\"https://colab.research.google.com/github/Animeshsinghiit/Machine-learning-practises/blob/main/california_housing_dataset_practise_ml_LinearRegression.ipynb\" target=\"_parent\"><img src=\"https://colab.research.google.com/assets/colab-badge.svg\" alt=\"Open In Colab\"/></a>"
      ]
    },
    {
      "cell_type": "code",
      "execution_count": 1,
      "metadata": {
        "id": "XPYfLFv57mq4"
      },
      "outputs": [],
      "source": [
        "#imports\n",
        "import numpy as np\n",
        "import pandas as pd\n",
        "import matplotlib.pyplot as plt\n",
        "import seaborn as sns\n",
        "from sklearn.datasets import fetch_california_housing\n",
        "from sklearn.linear_model import LinearRegression\n",
        "from sklearn.model_selection import cross_validate,cross_val_score,learning_curve,ShuffleSplit,train_test_split,cross_val_predict\n",
        "from sklearn.metrics import mean_squared_error\n",
        "from sklearn.pipeline import Pipeline\n",
        "from sklearn.preprocessing import StandardScaler"
      ]
    },
    {
      "cell_type": "code",
      "source": [
        "np.random.seed(306)\n",
        "plt.style.use('seaborn')"
      ],
      "metadata": {
        "id": "ZYCKsdk39S-y"
      },
      "execution_count": 2,
      "outputs": []
    },
    {
      "cell_type": "code",
      "source": [
        "suffle_split_cv=ShuffleSplit(n_splits=10,test_size=0.2,random_state=0)\n",
        "feature,labels=fetch_california_housing(return_X_y=True,as_frame=True)"
      ],
      "metadata": {
        "id": "fheHFP5hF2LM"
      },
      "execution_count": 3,
      "outputs": []
    },
    {
      "cell_type": "code",
      "source": [
        "feature.shape"
      ],
      "metadata": {
        "colab": {
          "base_uri": "https://localhost:8080/"
        },
        "id": "z-6_MMYVHWCR",
        "outputId": "75ddc259-376a-437d-aac4-1c0efa07b1f4"
      },
      "execution_count": 4,
      "outputs": [
        {
          "output_type": "execute_result",
          "data": {
            "text/plain": [
              "(20640, 8)"
            ]
          },
          "metadata": {},
          "execution_count": 4
        }
      ]
    },
    {
      "cell_type": "code",
      "source": [
        "labels.shape"
      ],
      "metadata": {
        "colab": {
          "base_uri": "https://localhost:8080/"
        },
        "id": "GOui7oZaH6G6",
        "outputId": "2ae1c6fa-1d71-411e-a52c-321c6b899c3a"
      },
      "execution_count": 5,
      "outputs": [
        {
          "output_type": "execute_result",
          "data": {
            "text/plain": [
              "(20640,)"
            ]
          },
          "metadata": {},
          "execution_count": 5
        }
      ]
    },
    {
      "cell_type": "code",
      "source": [
        "assert(feature.shape[0]==labels.shape[0])"
      ],
      "metadata": {
        "id": "vploZ1UBIUly"
      },
      "execution_count": 6,
      "outputs": []
    },
    {
      "cell_type": "code",
      "source": [
        "train_features,test_features,train_labels,test_labels=train_test_split(feature,labels,random_state=42)"
      ],
      "metadata": {
        "id": "W6zDG0GeJgMD"
      },
      "execution_count": 7,
      "outputs": []
    },
    {
      "cell_type": "code",
      "source": [
        "feature.head()"
      ],
      "metadata": {
        "colab": {
          "base_uri": "https://localhost:8080/",
          "height": 206
        },
        "id": "7tBx8ZyMKkeM",
        "outputId": "82911534-a77f-4821-ab9b-66d0c5630130"
      },
      "execution_count": 8,
      "outputs": [
        {
          "output_type": "execute_result",
          "data": {
            "text/plain": [
              "   MedInc  HouseAge  AveRooms  AveBedrms  Population  AveOccup  Latitude  \\\n",
              "0  8.3252      41.0  6.984127   1.023810       322.0  2.555556     37.88   \n",
              "1  8.3014      21.0  6.238137   0.971880      2401.0  2.109842     37.86   \n",
              "2  7.2574      52.0  8.288136   1.073446       496.0  2.802260     37.85   \n",
              "3  5.6431      52.0  5.817352   1.073059       558.0  2.547945     37.85   \n",
              "4  3.8462      52.0  6.281853   1.081081       565.0  2.181467     37.85   \n",
              "\n",
              "   Longitude  \n",
              "0    -122.23  \n",
              "1    -122.22  \n",
              "2    -122.24  \n",
              "3    -122.25  \n",
              "4    -122.25  "
            ],
            "text/html": [
              "\n",
              "  <div id=\"df-1039e12d-45b2-4f37-bea6-04b22d41588d\">\n",
              "    <div class=\"colab-df-container\">\n",
              "      <div>\n",
              "<style scoped>\n",
              "    .dataframe tbody tr th:only-of-type {\n",
              "        vertical-align: middle;\n",
              "    }\n",
              "\n",
              "    .dataframe tbody tr th {\n",
              "        vertical-align: top;\n",
              "    }\n",
              "\n",
              "    .dataframe thead th {\n",
              "        text-align: right;\n",
              "    }\n",
              "</style>\n",
              "<table border=\"1\" class=\"dataframe\">\n",
              "  <thead>\n",
              "    <tr style=\"text-align: right;\">\n",
              "      <th></th>\n",
              "      <th>MedInc</th>\n",
              "      <th>HouseAge</th>\n",
              "      <th>AveRooms</th>\n",
              "      <th>AveBedrms</th>\n",
              "      <th>Population</th>\n",
              "      <th>AveOccup</th>\n",
              "      <th>Latitude</th>\n",
              "      <th>Longitude</th>\n",
              "    </tr>\n",
              "  </thead>\n",
              "  <tbody>\n",
              "    <tr>\n",
              "      <th>0</th>\n",
              "      <td>8.3252</td>\n",
              "      <td>41.0</td>\n",
              "      <td>6.984127</td>\n",
              "      <td>1.023810</td>\n",
              "      <td>322.0</td>\n",
              "      <td>2.555556</td>\n",
              "      <td>37.88</td>\n",
              "      <td>-122.23</td>\n",
              "    </tr>\n",
              "    <tr>\n",
              "      <th>1</th>\n",
              "      <td>8.3014</td>\n",
              "      <td>21.0</td>\n",
              "      <td>6.238137</td>\n",
              "      <td>0.971880</td>\n",
              "      <td>2401.0</td>\n",
              "      <td>2.109842</td>\n",
              "      <td>37.86</td>\n",
              "      <td>-122.22</td>\n",
              "    </tr>\n",
              "    <tr>\n",
              "      <th>2</th>\n",
              "      <td>7.2574</td>\n",
              "      <td>52.0</td>\n",
              "      <td>8.288136</td>\n",
              "      <td>1.073446</td>\n",
              "      <td>496.0</td>\n",
              "      <td>2.802260</td>\n",
              "      <td>37.85</td>\n",
              "      <td>-122.24</td>\n",
              "    </tr>\n",
              "    <tr>\n",
              "      <th>3</th>\n",
              "      <td>5.6431</td>\n",
              "      <td>52.0</td>\n",
              "      <td>5.817352</td>\n",
              "      <td>1.073059</td>\n",
              "      <td>558.0</td>\n",
              "      <td>2.547945</td>\n",
              "      <td>37.85</td>\n",
              "      <td>-122.25</td>\n",
              "    </tr>\n",
              "    <tr>\n",
              "      <th>4</th>\n",
              "      <td>3.8462</td>\n",
              "      <td>52.0</td>\n",
              "      <td>6.281853</td>\n",
              "      <td>1.081081</td>\n",
              "      <td>565.0</td>\n",
              "      <td>2.181467</td>\n",
              "      <td>37.85</td>\n",
              "      <td>-122.25</td>\n",
              "    </tr>\n",
              "  </tbody>\n",
              "</table>\n",
              "</div>\n",
              "      <button class=\"colab-df-convert\" onclick=\"convertToInteractive('df-1039e12d-45b2-4f37-bea6-04b22d41588d')\"\n",
              "              title=\"Convert this dataframe to an interactive table.\"\n",
              "              style=\"display:none;\">\n",
              "        \n",
              "  <svg xmlns=\"http://www.w3.org/2000/svg\" height=\"24px\"viewBox=\"0 0 24 24\"\n",
              "       width=\"24px\">\n",
              "    <path d=\"M0 0h24v24H0V0z\" fill=\"none\"/>\n",
              "    <path d=\"M18.56 5.44l.94 2.06.94-2.06 2.06-.94-2.06-.94-.94-2.06-.94 2.06-2.06.94zm-11 1L8.5 8.5l.94-2.06 2.06-.94-2.06-.94L8.5 2.5l-.94 2.06-2.06.94zm10 10l.94 2.06.94-2.06 2.06-.94-2.06-.94-.94-2.06-.94 2.06-2.06.94z\"/><path d=\"M17.41 7.96l-1.37-1.37c-.4-.4-.92-.59-1.43-.59-.52 0-1.04.2-1.43.59L10.3 9.45l-7.72 7.72c-.78.78-.78 2.05 0 2.83L4 21.41c.39.39.9.59 1.41.59.51 0 1.02-.2 1.41-.59l7.78-7.78 2.81-2.81c.8-.78.8-2.07 0-2.86zM5.41 20L4 18.59l7.72-7.72 1.47 1.35L5.41 20z\"/>\n",
              "  </svg>\n",
              "      </button>\n",
              "      \n",
              "  <style>\n",
              "    .colab-df-container {\n",
              "      display:flex;\n",
              "      flex-wrap:wrap;\n",
              "      gap: 12px;\n",
              "    }\n",
              "\n",
              "    .colab-df-convert {\n",
              "      background-color: #E8F0FE;\n",
              "      border: none;\n",
              "      border-radius: 50%;\n",
              "      cursor: pointer;\n",
              "      display: none;\n",
              "      fill: #1967D2;\n",
              "      height: 32px;\n",
              "      padding: 0 0 0 0;\n",
              "      width: 32px;\n",
              "    }\n",
              "\n",
              "    .colab-df-convert:hover {\n",
              "      background-color: #E2EBFA;\n",
              "      box-shadow: 0px 1px 2px rgba(60, 64, 67, 0.3), 0px 1px 3px 1px rgba(60, 64, 67, 0.15);\n",
              "      fill: #174EA6;\n",
              "    }\n",
              "\n",
              "    [theme=dark] .colab-df-convert {\n",
              "      background-color: #3B4455;\n",
              "      fill: #D2E3FC;\n",
              "    }\n",
              "\n",
              "    [theme=dark] .colab-df-convert:hover {\n",
              "      background-color: #434B5C;\n",
              "      box-shadow: 0px 1px 3px 1px rgba(0, 0, 0, 0.15);\n",
              "      filter: drop-shadow(0px 1px 2px rgba(0, 0, 0, 0.3));\n",
              "      fill: #FFFFFF;\n",
              "    }\n",
              "  </style>\n",
              "\n",
              "      <script>\n",
              "        const buttonEl =\n",
              "          document.querySelector('#df-1039e12d-45b2-4f37-bea6-04b22d41588d button.colab-df-convert');\n",
              "        buttonEl.style.display =\n",
              "          google.colab.kernel.accessAllowed ? 'block' : 'none';\n",
              "\n",
              "        async function convertToInteractive(key) {\n",
              "          const element = document.querySelector('#df-1039e12d-45b2-4f37-bea6-04b22d41588d');\n",
              "          const dataTable =\n",
              "            await google.colab.kernel.invokeFunction('convertToInteractive',\n",
              "                                                     [key], {});\n",
              "          if (!dataTable) return;\n",
              "\n",
              "          const docLinkHtml = 'Like what you see? Visit the ' +\n",
              "            '<a target=\"_blank\" href=https://colab.research.google.com/notebooks/data_table.ipynb>data table notebook</a>'\n",
              "            + ' to learn more about interactive tables.';\n",
              "          element.innerHTML = '';\n",
              "          dataTable['output_type'] = 'display_data';\n",
              "          await google.colab.output.renderOutput(dataTable, element);\n",
              "          const docLink = document.createElement('div');\n",
              "          docLink.innerHTML = docLinkHtml;\n",
              "          element.appendChild(docLink);\n",
              "        }\n",
              "      </script>\n",
              "    </div>\n",
              "  </div>\n",
              "  "
            ]
          },
          "metadata": {},
          "execution_count": 8
        }
      ]
    },
    {
      "cell_type": "code",
      "source": [
        "pipe=Pipeline([('stand_scale',StandardScaler()),('model',LinearRegression())])"
      ],
      "metadata": {
        "id": "nJuSCXNhL3mO"
      },
      "execution_count": 9,
      "outputs": []
    },
    {
      "cell_type": "code",
      "source": [
        "pipe.fit(train_features,train_labels)"
      ],
      "metadata": {
        "colab": {
          "base_uri": "https://localhost:8080/"
        },
        "id": "5E8NOFZLMOo0",
        "outputId": "ddeb6d06-c2a1-4b34-9e19-4566139bcf82"
      },
      "execution_count": 10,
      "outputs": [
        {
          "output_type": "execute_result",
          "data": {
            "text/plain": [
              "Pipeline(steps=[('stand_scale', StandardScaler()),\n",
              "                ('model', LinearRegression())])"
            ]
          },
          "metadata": {},
          "execution_count": 10
        }
      ]
    },
    {
      "cell_type": "code",
      "source": [
        "pipe[-1].intercept_"
      ],
      "metadata": {
        "colab": {
          "base_uri": "https://localhost:8080/"
        },
        "id": "r3tFjeHkMapE",
        "outputId": "cfd9871b-f4e3-4bb1-8222-4c9ce3953ba6"
      },
      "execution_count": 11,
      "outputs": [
        {
          "output_type": "execute_result",
          "data": {
            "text/plain": [
              "2.0703489205426377"
            ]
          },
          "metadata": {},
          "execution_count": 11
        }
      ]
    },
    {
      "cell_type": "code",
      "source": [
        "pipe[-1].coef_"
      ],
      "metadata": {
        "colab": {
          "base_uri": "https://localhost:8080/"
        },
        "id": "4G4mbmfjNApK",
        "outputId": "810b05f2-f8be-4821-821d-bdc4fcae31db"
      },
      "execution_count": 12,
      "outputs": [
        {
          "output_type": "execute_result",
          "data": {
            "text/plain": [
              "array([ 0.85210815,  0.12065533, -0.30210555,  0.34860575, -0.00164465,\n",
              "       -0.04116356, -0.89314697, -0.86784046])"
            ]
          },
          "metadata": {},
          "execution_count": 12
        }
      ]
    },
    {
      "cell_type": "code",
      "source": [
        "pipe.score(test_features,test_labels)"
      ],
      "metadata": {
        "colab": {
          "base_uri": "https://localhost:8080/"
        },
        "id": "cGEg5tqFNNJY",
        "outputId": "a4b8b10d-0c70-4c50-a6ce-f5f81510dcd5"
      },
      "execution_count": 13,
      "outputs": [
        {
          "output_type": "execute_result",
          "data": {
            "text/plain": [
              "0.5910509795491352"
            ]
          },
          "metadata": {},
          "execution_count": 13
        }
      ]
    },
    {
      "cell_type": "code",
      "source": [
        "pipe.score(train_features,train_labels)"
      ],
      "metadata": {
        "colab": {
          "base_uri": "https://localhost:8080/"
        },
        "id": "9VmL1vUZN113",
        "outputId": "d27ee313-8d41-4022-fe78-9a54ccea34fa"
      },
      "execution_count": 14,
      "outputs": [
        {
          "output_type": "execute_result",
          "data": {
            "text/plain": [
              "0.609873031052925"
            ]
          },
          "metadata": {},
          "execution_count": 14
        }
      ]
    },
    {
      "cell_type": "code",
      "source": [
        "lin_reg_score=cross_val_score(pipe,train_features,train_labels,cv=suffle_split_cv,scoring='neg_mean_squared_error')"
      ],
      "metadata": {
        "id": "gQjGUeTYOMG-"
      },
      "execution_count": 15,
      "outputs": []
    },
    {
      "cell_type": "code",
      "source": [
        "lin_reg_score"
      ],
      "metadata": {
        "colab": {
          "base_uri": "https://localhost:8080/"
        },
        "id": "lykr7CzhQI8q",
        "outputId": "01f2f22a-056b-44f6-fb1d-64cc7092fb51"
      },
      "execution_count": 16,
      "outputs": [
        {
          "output_type": "execute_result",
          "data": {
            "text/plain": [
              "array([-0.50009976, -0.52183352, -0.55931218, -0.52110499, -0.56059203,\n",
              "       -0.50510767, -0.52386194, -0.54775518, -0.5007161 , -0.54713448])"
            ]
          },
          "metadata": {},
          "execution_count": 16
        }
      ]
    },
    {
      "cell_type": "code",
      "source": [
        "lin_reg_cv_results=cross_validate(pipe,train_features,train_labels,cv=suffle_split_cv,scoring='neg_mean_squared_error',return_train_score=True,return_estimator=True)"
      ],
      "metadata": {
        "id": "JhS8RCcfRVBE"
      },
      "execution_count": 17,
      "outputs": []
    },
    {
      "cell_type": "code",
      "source": [
        "lin_reg_cv_results"
      ],
      "metadata": {
        "colab": {
          "base_uri": "https://localhost:8080/"
        },
        "id": "A3ThvkiyRu8f",
        "outputId": "d4d5919e-f187-4c6d-eaf0-bb41d315b08c"
      },
      "execution_count": 18,
      "outputs": [
        {
          "output_type": "execute_result",
          "data": {
            "text/plain": [
              "{'fit_time': array([0.00748658, 0.00630236, 0.00601029, 0.00624228, 0.00757027,\n",
              "        0.00772429, 0.00760555, 0.00654078, 0.00627661, 0.00628757]),\n",
              " 'score_time': array([0.00163841, 0.00155926, 0.00154471, 0.00155854, 0.00162053,\n",
              "        0.00166464, 0.00167871, 0.00157046, 0.00158119, 0.00156403]),\n",
              " 'estimator': [Pipeline(steps=[('stand_scale', StandardScaler()),\n",
              "                  ('model', LinearRegression())]),\n",
              "  Pipeline(steps=[('stand_scale', StandardScaler()),\n",
              "                  ('model', LinearRegression())]),\n",
              "  Pipeline(steps=[('stand_scale', StandardScaler()),\n",
              "                  ('model', LinearRegression())]),\n",
              "  Pipeline(steps=[('stand_scale', StandardScaler()),\n",
              "                  ('model', LinearRegression())]),\n",
              "  Pipeline(steps=[('stand_scale', StandardScaler()),\n",
              "                  ('model', LinearRegression())]),\n",
              "  Pipeline(steps=[('stand_scale', StandardScaler()),\n",
              "                  ('model', LinearRegression())]),\n",
              "  Pipeline(steps=[('stand_scale', StandardScaler()),\n",
              "                  ('model', LinearRegression())]),\n",
              "  Pipeline(steps=[('stand_scale', StandardScaler()),\n",
              "                  ('model', LinearRegression())]),\n",
              "  Pipeline(steps=[('stand_scale', StandardScaler()),\n",
              "                  ('model', LinearRegression())]),\n",
              "  Pipeline(steps=[('stand_scale', StandardScaler()),\n",
              "                  ('model', LinearRegression())])],\n",
              " 'test_score': array([-0.50009976, -0.52183352, -0.55931218, -0.52110499, -0.56059203,\n",
              "        -0.50510767, -0.52386194, -0.54775518, -0.5007161 , -0.54713448]),\n",
              " 'train_score': array([-0.52578695, -0.52035137, -0.51095597, -0.52049611, -0.51060835,\n",
              "        -0.52453922, -0.51994311, -0.5144039 , -0.52578473, -0.51397105])}"
            ]
          },
          "metadata": {},
          "execution_count": 18
        }
      ]
    },
    {
      "cell_type": "code",
      "source": [
        "feature_names=train_features.columns"
      ],
      "metadata": {
        "id": "fDT1QgOrR_11"
      },
      "execution_count": 19,
      "outputs": []
    },
    {
      "cell_type": "code",
      "source": [
        "feature_names"
      ],
      "metadata": {
        "colab": {
          "base_uri": "https://localhost:8080/"
        },
        "id": "3gOizXdyTwzP",
        "outputId": "11d42f92-6ae5-43e5-9e38-0192b4ebe349"
      },
      "execution_count": 20,
      "outputs": [
        {
          "output_type": "execute_result",
          "data": {
            "text/plain": [
              "Index(['MedInc', 'HouseAge', 'AveRooms', 'AveBedrms', 'Population', 'AveOccup',\n",
              "       'Latitude', 'Longitude'],\n",
              "      dtype='object')"
            ]
          },
          "metadata": {},
          "execution_count": 20
        }
      ]
    },
    {
      "cell_type": "code",
      "source": [
        "cv_predictions=cross_val_predict(pipe,train_features,train_labels)"
      ],
      "metadata": {
        "id": "nrlGWqImTz5M"
      },
      "execution_count": 21,
      "outputs": []
    },
    {
      "cell_type": "code",
      "source": [
        "mse_cv=mean_squared_error(train_labels,cv_predictions)"
      ],
      "metadata": {
        "id": "UDmXm9XcUYTd"
      },
      "execution_count": 22,
      "outputs": []
    },
    {
      "cell_type": "code",
      "source": [
        "plt.scatter(train_labels, cv_predictions, color='blue')\n",
        "plt.plot(train_labels, train_labels, 'r-')\n",
        "plt.title(f\"Mean squared error = {mse_cv:.2f}\", size=24)\n",
        "plt.xlabel('Actual Median House value', size=15)\n",
        "plt.ylabel('Predicted Median House value',size=15)\n",
        "plt.show()"
      ],
      "metadata": {
        "colab": {
          "base_uri": "https://localhost:8080/",
          "height": 388
        },
        "id": "byox2LdXUn8F",
        "outputId": "ea53e15c-2f02-4704-8370-1c54256ea086"
      },
      "execution_count": 23,
      "outputs": [
        {
          "output_type": "display_data",
          "data": {
            "text/plain": [
              "<Figure size 576x396 with 1 Axes>"
            ],
            "image/png": "[encoded data removed]"
          },
          "metadata": {}
        }
      ]
    },
    {
      "cell_type": "code",
      "source": [
        "train_error = -1 * lin_reg_cv_results['train_score']\n",
        "test_error = -1 * lin_reg_cv_results['test_score']"
      ],
      "metadata": {
        "id": "ZsGuyhXIb-i4"
      },
      "execution_count": 24,
      "outputs": []
    },
    {
      "cell_type": "code",
      "source": [
        "print(f\"Mean squared error of linear regression model on the train set:\\n\"\n",
        "f\"{train_error.mean():.3f} +/- {train_error.std():.3f}\")\n",
        "print(f\"Mean squared error of linear regression model on the test set:\\n\"\n",
        "f\"{test_error.mean():.3f} +/- {test_error.std():.3f}\")"
      ],
      "metadata": {
        "colab": {
          "base_uri": "https://localhost:8080/"
        },
        "id": "6FwrkjgXb_8q",
        "outputId": "3853168d-169e-4d8b-8a5c-ca6b6623770a"
      },
      "execution_count": 25,
      "outputs": [
        {
          "output_type": "stream",
          "name": "stdout",
          "text": [
            "Mean squared error of linear regression model on the train set:\n",
            "0.519 +/- 0.006\n",
            "Mean squared error of linear regression model on the test set:\n",
            "0.529 +/- 0.022\n"
          ]
        }
      ]
    },
    {
      "cell_type": "code",
      "source": [
        "best_model_index = np.argmin(test_error)\n",
        "selected_model = lin_reg_cv_results['estimator'][best_model_index]"
      ],
      "metadata": {
        "id": "hOex1bM1cG-S"
      },
      "execution_count": 26,
      "outputs": []
    },
    {
      "cell_type": "code",
      "source": [
        "best_model_index"
      ],
      "metadata": {
        "colab": {
          "base_uri": "https://localhost:8080/"
        },
        "id": "Z5GE6t85cfln",
        "outputId": "0c493980-35df-4a51-ffc5-96fe00baca6e"
      },
      "execution_count": 27,
      "outputs": [
        {
          "output_type": "execute_result",
          "data": {
            "text/plain": [
              "0"
            ]
          },
          "metadata": {},
          "execution_count": 27
        }
      ]
    },
    {
      "cell_type": "code",
      "source": [
        "selected_model"
      ],
      "metadata": {
        "colab": {
          "base_uri": "https://localhost:8080/"
        },
        "id": "5dARkVSicjWZ",
        "outputId": "970be6e2-7d3b-4933-834a-224984fea162"
      },
      "execution_count": 28,
      "outputs": [
        {
          "output_type": "execute_result",
          "data": {
            "text/plain": [
              "Pipeline(steps=[('stand_scale', StandardScaler()),\n",
              "                ('model', LinearRegression())])"
            ]
          },
          "metadata": {},
          "execution_count": 28
        }
      ]
    },
    {
      "cell_type": "code",
      "source": [
        "test_error"
      ],
      "metadata": {
        "colab": {
          "base_uri": "https://localhost:8080/"
        },
        "id": "djN_C1lGcnrC",
        "outputId": "b6f70278-dd79-418c-8901-78d4b6d35bd2"
      },
      "execution_count": 29,
      "outputs": [
        {
          "output_type": "execute_result",
          "data": {
            "text/plain": [
              "array([0.50009976, 0.52183352, 0.55931218, 0.52110499, 0.56059203,\n",
              "       0.50510767, 0.52386194, 0.54775518, 0.5007161 , 0.54713448])"
            ]
          },
          "metadata": {},
          "execution_count": 29
        }
      ]
    },
    {
      "cell_type": "code",
      "source": [
        "print (\"Intercept (w_0): \", selected_model['model'].intercept_)\n",
        "print (\"Coefficients (w_1, ..., w_m): \", selected_model['model'].coef_)"
      ],
      "metadata": {
        "colab": {
          "base_uri": "https://localhost:8080/"
        },
        "id": "8C_p6Sldcu0X",
        "outputId": "36c3ad8b-7e4a-4b62-ccf3-1c55980d75f9"
      },
      "execution_count": 30,
      "outputs": [
        {
          "output_type": "stream",
          "name": "stdout",
          "text": [
            "Intercept (w_0):  2.0779898917958657\n",
            "Coefficients (w_1, ..., w_m):  [ 8.44324888e-01  1.18463901e-01 -3.04619574e-01  3.56620503e-01\n",
            "  1.74458509e-04 -4.23964612e-02 -8.96045642e-01 -8.68906479e-01]\n"
          ]
        }
      ]
    },
    {
      "cell_type": "code",
      "source": [
        "test_predictions_cv=selected_model.predict(test_features)"
      ],
      "metadata": {
        "id": "6lHtyiOVc57V"
      },
      "execution_count": 31,
      "outputs": []
    },
    {
      "cell_type": "code",
      "source": [
        "test_predictions_cv"
      ],
      "metadata": {
        "colab": {
          "base_uri": "https://localhost:8080/"
        },
        "id": "TBaekXTXdOqw",
        "outputId": "b988467a-2c30-4b7e-cc1b-baa82ac6a9db"
      },
      "execution_count": 32,
      "outputs": [
        {
          "output_type": "execute_result",
          "data": {
            "text/plain": [
              "array([0.73548515, 1.7725621 , 2.70011199, ..., 1.72922496, 2.34393553,\n",
              "       3.5176306 ])"
            ]
          },
          "metadata": {},
          "execution_count": 32
        }
      ]
    },
    {
      "cell_type": "code",
      "source": [
        "test_predictions=pipe.predict(test_features)"
      ],
      "metadata": {
        "id": "Ng-5hPimd34s"
      },
      "execution_count": 33,
      "outputs": []
    },
    {
      "cell_type": "code",
      "source": [
        "test_predictions"
      ],
      "metadata": {
        "colab": {
          "base_uri": "https://localhost:8080/"
        },
        "id": "7gfZQX0rd9ey",
        "outputId": "7deb62bb-2c66-46aa-8bc8-458dee96406b"
      },
      "execution_count": 34,
      "outputs": [
        {
          "output_type": "execute_result",
          "data": {
            "text/plain": [
              "array([0.72412832, 1.76677807, 2.71151581, ..., 1.72382152, 2.34689276,\n",
              "       3.52917352])"
            ]
          },
          "metadata": {},
          "execution_count": 34
        }
      ]
    },
    {
      "cell_type": "code",
      "source": [
        "score_cv = selected_model.score(test_features, test_labels)\n",
        "score = pipe.score(test_features, test_labels)\n",
        "print (\"R2 score for the best model obtained via cross validation: \", score_cv)\n",
        "print (\"R2 score for model without cv: \", score)"
      ],
      "metadata": {
        "colab": {
          "base_uri": "https://localhost:8080/"
        },
        "id": "YbWgFXeKdex4",
        "outputId": "3b8ee4af-be33-4490-facc-eb8d620a4b88"
      },
      "execution_count": 35,
      "outputs": [
        {
          "output_type": "stream",
          "name": "stdout",
          "text": [
            "R2 score for the best model obtained via cross validation:  0.5923577635319088\n",
            "R2 score for model without cv:  0.5910509795491352\n"
          ]
        }
      ]
    },
    {
      "cell_type": "code",
      "source": [
        "mse = mean_squared_error(test_labels, test_predictions)\n",
        "mse_cv = mean_squared_error(test_labels, test_predictions_cv)\n",
        "print (\"MSE for the best model obtained via cross validation: \", mse_cv)\n",
        "print (\"MSE for model without cv: \", mse)"
      ],
      "metadata": {
        "colab": {
          "base_uri": "https://localhost:8080/"
        },
        "id": "55GxJQBldr66",
        "outputId": "983340d7-ecb9-4da9-b2d0-ba8e1372d653"
      },
      "execution_count": 36,
      "outputs": [
        {
          "output_type": "stream",
          "name": "stdout",
          "text": [
            "MSE for the best model obtained via cross validation:  0.5393995876218523\n",
            "MSE for model without cv:  0.5411287478470688\n"
          ]
        }
      ]
    }
  ]
}